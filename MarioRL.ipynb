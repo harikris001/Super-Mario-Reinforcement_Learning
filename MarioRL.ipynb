{
 "cells": [
  {
   "cell_type": "code",
   "execution_count": 1,
   "metadata": {
    "id": "WGBKCSrAi5TJ"
   },
   "outputs": [],
   "source": [
    "# 8 worlds and 4 stages = 32 levels\n",
    "WORLD = 1\n",
    "STAGE = 1\n",
    "LEVEL = f\"{WORLD}-{STAGE}\"\n",
    "# 0 high, 1 low, 2 down, 3 lowest\n",
    "QUALITY = 1\n",
    "DEFAULT_GAME = f\"SuperMarioBros-{LEVEL}-v{QUALITY}\"\n",
    "# Simplest list of actions\n",
    "MY_ACTIONS = [[\"right\"], [\"right\", \"A\"]]\n",
    "\n",
    "\n",
    "# Important to set the 2 params below to affect time, each 50k steps takes\n",
    "# Literature suggests  batches*each_batch_steps to exceed 10M to get reliably good Mario AI\n",
    "# change to higher number for real run, 2 for test\n",
    "batches = 22\n",
    "# Change to 500k or more to expect see real impact\n",
    "each_batch_steps = 500_000"
   ]
  },
  {
   "cell_type": "markdown",
   "metadata": {
    "id": "GjsOk-YMjFkj"
   },
   "source": [
    "# 1.IMPORTING OF PACKAGES"
   ]
  },
  {
   "cell_type": "markdown",
   "metadata": {},
   "source": [
    "### Install necessary packages"
   ]
  },
  {
   "cell_type": "code",
   "execution_count": 1,
   "metadata": {
    "id": "OIuUxaNujFSG"
   },
   "outputs": [],
   "source": [
    "%pip install stable-baselines3[extra] > /dev/null 2>&1\n",
    "%pip install gym-super-mario-bros > /dev/null 2>&1\n",
    "%pip install git+https://github.com/tensorflow/docs > /dev/null 2>&1"
   ]
  },
  {
   "cell_type": "markdown",
   "metadata": {},
   "source": [
    "### Import necssary packages"
   ]
  },
  {
   "cell_type": "code",
   "execution_count": 2,
   "metadata": {
    "id": "yWNoJiplkVGV"
   },
   "outputs": [],
   "source": [
    "import base64\n",
    "from PIL import Image\n",
    "import os\n",
    "import matplotlib.pyplot as plt\n",
    "import tensorflow_docs.vis.embed as embed\n",
    "import numpy as np\n",
    "import torch\n",
    "\n",
    "# ----Game Env and Transform needed----\n",
    "import gym\n",
    "from gym.spaces import Box\n",
    "import gym_super_mario_bros\n",
    "from gym.wrappers import FrameStack\n",
    "from nes_py.wrappers import JoypadSpace\n",
    "from gym.wrappers import FrameStack\n",
    "from torchvision import transforms\n",
    "\n",
    "# ----PPO RL Algorithm----\n",
    "from stable_baselines3 import PPO"
   ]
  },
  {
   "cell_type": "markdown",
   "metadata": {
    "id": "lFwM8snWnKa-"
   },
   "source": [
    "# 2.ALTERING OBESRVATION SPACE"
   ]
  },
  {
   "cell_type": "code",
   "execution_count": 3,
   "metadata": {
    "id": "Ot-Vs3Qvmp0a"
   },
   "outputs": [],
   "source": [
    "# all changes executed below is based on gym module source code\n",
    "class SkipFrame(gym.Wrapper):\n",
    "    def __init__(self, env, skip):\n",
    "        \"\"\"Return only every `skip`-th frame\"\"\"\n",
    "        super().__init__(env)\n",
    "        self._skip = skip\n",
    "\n",
    "    def step(self, action):\n",
    "        \"\"\"Repeat action, and sum reward\"\"\"\n",
    "        total_reward = 0.0\n",
    "        done = False\n",
    "        for i in range(self._skip):\n",
    "            # Accumulate reward and repeat the same action\n",
    "            obs, reward, done, info = self.env.step(action)\n",
    "            total_reward += reward\n",
    "            if done:\n",
    "                break\n",
    "        return obs, total_reward, done, info\n",
    "\n",
    "\n",
    "class GrayScaleObservation(gym.ObservationWrapper):\n",
    "    def __init__(self, env):\n",
    "        super().__init__(env)\n",
    "        obs_shape = self.observation_space.shape[:2]\n",
    "        self.observation_space = Box(low=0, high=255, shape=obs_shape, dtype=np.uint8)\n",
    "\n",
    "    def permute_orientation(self, observation):\n",
    "        # permute [H, W, C] array to [C, H, W] tensor\n",
    "        observation = np.transpose(observation, (2, 0, 1))\n",
    "        observation = torch.tensor(observation.copy(), dtype=torch.float)\n",
    "        return observation\n",
    "\n",
    "    def observation(self, observation):\n",
    "        observation = self.permute_orientation(observation)\n",
    "        transform = transforms.Grayscale()\n",
    "        observation = transform(observation)\n",
    "        return observation\n",
    "\n",
    "\n",
    "class ResizeObservation(gym.ObservationWrapper):\n",
    "    def __init__(self, env, shape):\n",
    "        super().__init__(env)\n",
    "        if isinstance(shape, int):\n",
    "            self.shape = (shape, shape)\n",
    "        else:\n",
    "            self.shape = tuple(shape)\n",
    "\n",
    "        obs_shape = self.shape + self.observation_space.shape[2:]\n",
    "        self.observation_space = Box(low=0, high=255, shape=obs_shape, dtype=np.uint8)\n",
    "\n",
    "    def observation(self, observation):\n",
    "        my_transforms = transforms.Compose(\n",
    "            [transforms.Resize(self.shape), transforms.Normalize(0, 255)]\n",
    "        )\n",
    "        observation = my_transforms(observation).squeeze(0)\n",
    "        return observation\n",
    "\n",
    "\n",
    "# Apply Wrappers to environment, notice we limit the action spaces to MY_ACTIONS which only has 2 action\n",
    "def build_env():\n",
    "  env = gym_super_mario_bros.make(DEFAULT_GAME)\n",
    "  env = SkipFrame(env, skip=4)\n",
    "  env = GrayScaleObservation(env)\n",
    "  env = ResizeObservation(env, shape=84)\n",
    "  env = FrameStack(env, num_stack=4)\n",
    "  env = JoypadSpace(env, MY_ACTIONS)\n",
    "  return env"
   ]
  },
  {
   "cell_type": "code",
   "execution_count": 4,
   "metadata": {},
   "outputs": [],
   "source": [
    "from typing import Callable\n",
    "\n",
    "def linear_schedule(initial_value: float) -> Callable[[float], float]:\n",
    "    \"\"\"\n",
    "    Linear learning rate schedule.\n",
    "\n",
    "    :param initial_value: Initial learning rate.\n",
    "    :return: schedule that computes\n",
    "      current learning rate depending on remaining progress\n",
    "    \"\"\"\n",
    "    def func(progress_remaining: float) -> float:\n",
    "        \"\"\"\n",
    "        Progress will decrease from 1 (beginning) to 0.\n",
    "\n",
    "        :param progress_remaining:\n",
    "        :return: current learning rate\n",
    "        \"\"\"\n",
    "        return progress_remaining * initial_value\n",
    "\n",
    "    return func"
   ]
  },
  {
   "cell_type": "code",
   "execution_count": 5,
   "metadata": {
    "id": "XA2rqgJbnHIK",
    "scrolled": true
   },
   "outputs": [
    {
     "name": "stdout",
     "output_type": "stream",
     "text": [
      "WHAT WE SEE\n"
     ]
    },
    {
     "data": {
      "image/png": "[encoded data removed]",
      "text/plain": [
       "<Figure size 640x480 with 1 Axes>"
      ]
     },
     "metadata": {},
     "output_type": "display_data"
    },
    {
     "name": "stdout",
     "output_type": "stream",
     "text": [
      "WHAT MODEL SEES\n"
     ]
    },
    {
     "data": {
      "image/png": "[encoded data removed]",
      "text/plain": [
       "<Figure size 640x480 with 1 Axes>"
      ]
     },
     "metadata": {},
     "output_type": "display_data"
    }
   ],
   "source": [
    "def see_world(test_env):\n",
    "  obs = test_env.reset()\n",
    "  for i in range(10):\n",
    "      action = test_env.action_space.sample()\n",
    "      obs, reward, done, info = test_env.step(action)\n",
    "\n",
    "  from matplotlib import pyplot as plt\n",
    "  if obs.shape[0] == 4:\n",
    "    plt.imshow(obs[-1], cmap='gray')\n",
    "    plt.axis('off')\n",
    "  else:\n",
    "    plt.imshow(obs)\n",
    "    plt.axis('off')\n",
    "  plt.show()\n",
    "  del test_env\n",
    "print(\"WHAT WE SEE\")\n",
    "see_world(gym_super_mario_bros.make(DEFAULT_GAME))\n",
    "print(\"WHAT MODEL SEES\")\n",
    "see_world(build_env())"
   ]
  },
  {
   "cell_type": "code",
   "execution_count": 6,
   "metadata": {
    "id": "NNH1NZ9ppKJm"
   },
   "outputs": [],
   "source": [
    "def save_gif(model, image_file, max_steps=2000):\n",
    "  best_img = []\n",
    "  all_rewards = []\n",
    "  best_reward = 0\n",
    "  for i in range(20): # choose 1 best out of 10\n",
    "    env = build_env()\n",
    "    obs = env.reset()\n",
    "    im = Image.fromarray(env.render(mode = 'rgb_array'))\n",
    "    images = [im]\n",
    "    obs = env.reset()\n",
    "    cur_best_reward = 0\n",
    "    for i in range(1, max_steps + 1):\n",
    "      # Reformat lazyframe to numpy for predict method\n",
    "      b = torch.Tensor(4, 84, 84)\n",
    "      torch.stack(obs._frames, out=b)\n",
    "      action, _ = model.predict(b.numpy())\n",
    "      print(\"action\", action)\n",
    "      # As of 09/2022, step func seems complain action as numpy scalar, so convert to int\n",
    "      obs, reward, done, _ = env.step(action.tolist())\n",
    "      cur_best_reward += reward\n",
    "      # Render screen every 8/4 = 2 steps\n",
    "      if i % 2 == 0:\n",
    "        images.append(Image.fromarray(env.render(mode = 'rgb_array')))\n",
    "      if done:\n",
    "        break\n",
    "    all_rewards.append(cur_best_reward)\n",
    "    if cur_best_reward > best_reward or (cur_best_reward == best_reward and len(images) > len(best_img)):\n",
    "      best_reward = cur_best_reward\n",
    "      best_img = images\n",
    "  best_img[0].save(image_file, save_all=True, append_images=best_img[1:], loop=0, duration=1)\n",
    "  print(\"mean reward of 20 episodes\", sum(all_rewards) / len(all_rewards), \"\\tlength\", len(best_img))\n",
    "  print(\"saved to\", image_file)"
   ]
  },
  {
   "cell_type": "markdown",
   "metadata": {
    "id": "grTAKfxppc6e"
   },
   "source": [
    "# 3.TRAINING OF MODEL"
   ]
  },
  {
   "cell_type": "code",
   "execution_count": null,
   "metadata": {
    "id": "xSOiIwNGpfnX"
   },
   "outputs": [],
   "source": [
    "prefix = \"ppo_cnn_\"\n",
    "CHECKPOINT_DIR= \"./marioRL/models\"\n",
    "VID_DIR= \"./marioRL/docs/videos\"\n",
    "LOG_DIR= \"./logs/type2\"\n",
    "\n",
    "model = PPO('CnnPolicy', build_env(), verbose=0,tensorboard_log=LOG_DIR,learning_rate=linear_schedule(3e-4),ent_coef=0.01)\n",
    "base_steps = 0\n",
    "total_steps = base_steps\n",
    "for i in range(1, 1 + batches):\n",
    "  obs = model.env.reset()\n",
    "  model.learn(total_timesteps=each_batch_steps)\n",
    "  total_steps += each_batch_steps\n",
    "  if each_batch_steps > 50000:  # only save model if the batch step > 50k\n",
    "    model.save(os.path.join(CHECKPOINT_DIR,f\"model_{total_steps}\"))"
   ]
  },
  {
   "cell_type": "markdown",
   "metadata": {
    "id": "aBNLwTSTpuyR"
   },
   "source": [
    "# 4.TESTING THE MODEL"
   ]
  },
  {
   "cell_type": "code",
   "execution_count": 15,
   "metadata": {
    "collapsed": true,
    "id": "PN34ZT3vp5Lk"
   },
   "outputs": [
    {
     "name": "stdout",
     "output_type": "stream",
     "text": [
      "mean reward of 20 episodes 726.15 \tlength 222\n",
      "saved to ./marioRL/docs/videos\\model_50000.gif\n",
      "mean reward of 20 episodes 690.75 \tlength 237\n",
      "saved to ./marioRL/docs/videos\\model_100000.gif\n",
      "mean reward of 20 episodes 731.1 \tlength 396\n",
      "saved to ./marioRL/docs/videos\\model_150000.gif\n",
      "mean reward of 20 episodes 640.6 \tlength 175\n",
      "saved to ./marioRL/docs/videos\\model_200000.gif\n",
      "mean reward of 20 episodes 669.55 \tlength 134\n",
      "saved to ./marioRL/docs/videos\\model_250000.gif\n",
      "mean reward of 20 episodes 624.35 \tlength 155\n",
      "saved to ./marioRL/docs/videos\\model_300000.gif\n",
      "mean reward of 20 episodes 673.8 \tlength 207\n",
      "saved to ./marioRL/docs/videos\\model_350000.gif\n",
      "mean reward of 20 episodes 698.15 \tlength 126\n",
      "saved to ./marioRL/docs/videos\\model_400000.gif\n",
      "mean reward of 20 episodes 577.9 \tlength 148\n",
      "saved to ./marioRL/docs/videos\\model_450000.gif\n",
      "mean reward of 20 episodes 704.4 \tlength 223\n",
      "saved to ./marioRL/docs/videos\\model_500000.gif\n",
      "mean reward of 20 episodes 550.15 \tlength 114\n",
      "saved to ./marioRL/docs/videos\\model_550000.gif\n",
      "mean reward of 20 episodes 636.8 \tlength 204\n",
      "saved to ./marioRL/docs/videos\\model_600000.gif\n",
      "mean reward of 20 episodes 618.8 \tlength 207\n",
      "saved to ./marioRL/docs/videos\\model_650000.gif\n",
      "mean reward of 20 episodes 684.35 \tlength 164\n",
      "saved to ./marioRL/docs/videos\\model_700000.gif\n",
      "mean reward of 20 episodes 668.65 \tlength 234\n",
      "saved to ./marioRL/docs/videos\\model_750000.gif\n",
      "mean reward of 20 episodes 578.75 \tlength 302\n",
      "saved to ./marioRL/docs/videos\\model_800000.gif\n",
      "mean reward of 20 episodes 634.65 \tlength 221\n",
      "saved to ./marioRL/docs/videos\\model_850000.gif\n",
      "mean reward of 20 episodes 573.15 \tlength 204\n",
      "saved to ./marioRL/docs/videos\\model_900000.gif\n",
      "mean reward of 20 episodes 631.85 \tlength 163\n",
      "saved to ./marioRL/docs/videos\\model_950000.gif\n",
      "mean reward of 20 episodes 576.45 \tlength 195\n",
      "saved to ./marioRL/docs/videos\\model_1000000.gif\n"
     ]
    }
   ],
   "source": [
    "total_steps = each_batch_steps\n",
    "for i in range(1,1+batches):\n",
    "    model.load(f\"./marioRL/models/model_{total_steps}.zip\")\n",
    "    save_gif(model, os.path.join(VID_DIR, f\"model_{total_steps}\"+\".gif\"))\n",
    "    total_steps = total_steps + each_batch_steps"
   ]
  },
  {
   "cell_type": "code",
   "execution_count": 15,
   "metadata": {
    "collapsed": true
   },
   "outputs": [
    {
     "ename": "KeyboardInterrupt",
     "evalue": "",
     "output_type": "error",
     "traceback": [
      "\u001b[1;31m---------------------------------------------------------------------------\u001b[0m",
      "\u001b[1;31mKeyboardInterrupt\u001b[0m                         Traceback (most recent call last)",
      "Cell \u001b[1;32mIn[15], line 10\u001b[0m\n\u001b[0;32m      8\u001b[0m torch\u001b[38;5;241m.\u001b[39mstack(obs\u001b[38;5;241m.\u001b[39m_frames, out\u001b[38;5;241m=\u001b[39mb)\n\u001b[0;32m      9\u001b[0m action, _ \u001b[38;5;241m=\u001b[39m model\u001b[38;5;241m.\u001b[39mpredict(b\u001b[38;5;241m.\u001b[39mnumpy())\n\u001b[1;32m---> 10\u001b[0m obs, reward, done, _ \u001b[38;5;241m=\u001b[39m \u001b[43menv\u001b[49m\u001b[38;5;241;43m.\u001b[39;49m\u001b[43mstep\u001b[49m\u001b[43m(\u001b[49m\u001b[43maction\u001b[49m\u001b[38;5;241;43m.\u001b[39;49m\u001b[43mtolist\u001b[49m\u001b[43m(\u001b[49m\u001b[43m)\u001b[49m\u001b[43m)\u001b[49m\n\u001b[0;32m     11\u001b[0m env\u001b[38;5;241m.\u001b[39mrender()\n\u001b[0;32m     12\u001b[0m \u001b[38;5;28;01mif\u001b[39;00m done:\n",
      "File \u001b[1;32mD:\\Mini Project\\mario\\lib\\site-packages\\nes_py\\wrappers\\joypad_space.py:74\u001b[0m, in \u001b[0;36mJoypadSpace.step\u001b[1;34m(self, action)\u001b[0m\n\u001b[0;32m     59\u001b[0m \u001b[38;5;250m\u001b[39m\u001b[38;5;124;03m\"\"\"\u001b[39;00m\n\u001b[0;32m     60\u001b[0m \u001b[38;5;124;03mTake a step using the given action.\u001b[39;00m\n\u001b[0;32m     61\u001b[0m \n\u001b[1;32m   (...)\u001b[0m\n\u001b[0;32m     71\u001b[0m \n\u001b[0;32m     72\u001b[0m \u001b[38;5;124;03m\"\"\"\u001b[39;00m\n\u001b[0;32m     73\u001b[0m \u001b[38;5;66;03m# take the step and record the output\u001b[39;00m\n\u001b[1;32m---> 74\u001b[0m \u001b[38;5;28;01mreturn\u001b[39;00m \u001b[38;5;28;43mself\u001b[39;49m\u001b[38;5;241;43m.\u001b[39;49m\u001b[43menv\u001b[49m\u001b[38;5;241;43m.\u001b[39;49m\u001b[43mstep\u001b[49m\u001b[43m(\u001b[49m\u001b[38;5;28;43mself\u001b[39;49m\u001b[38;5;241;43m.\u001b[39;49m\u001b[43m_action_map\u001b[49m\u001b[43m[\u001b[49m\u001b[43maction\u001b[49m\u001b[43m]\u001b[49m\u001b[43m)\u001b[49m\n",
      "File \u001b[1;32mD:\\Mini Project\\mario\\lib\\site-packages\\gym\\wrappers\\frame_stack.py:115\u001b[0m, in \u001b[0;36mFrameStack.step\u001b[1;34m(self, action)\u001b[0m\n\u001b[0;32m    114\u001b[0m \u001b[38;5;28;01mdef\u001b[39;00m \u001b[38;5;21mstep\u001b[39m(\u001b[38;5;28mself\u001b[39m, action):\n\u001b[1;32m--> 115\u001b[0m     observation, reward, done, info \u001b[38;5;241m=\u001b[39m \u001b[38;5;28;43mself\u001b[39;49m\u001b[38;5;241;43m.\u001b[39;49m\u001b[43menv\u001b[49m\u001b[38;5;241;43m.\u001b[39;49m\u001b[43mstep\u001b[49m\u001b[43m(\u001b[49m\u001b[43maction\u001b[49m\u001b[43m)\u001b[49m\n\u001b[0;32m    116\u001b[0m     \u001b[38;5;28mself\u001b[39m\u001b[38;5;241m.\u001b[39mframes\u001b[38;5;241m.\u001b[39mappend(observation)\n\u001b[0;32m    117\u001b[0m     \u001b[38;5;28;01mreturn\u001b[39;00m \u001b[38;5;28mself\u001b[39m\u001b[38;5;241m.\u001b[39mobservation(), reward, done, info\n",
      "File \u001b[1;32mD:\\Mini Project\\mario\\lib\\site-packages\\gym\\core.py:323\u001b[0m, in \u001b[0;36mObservationWrapper.step\u001b[1;34m(self, action)\u001b[0m\n\u001b[0;32m    322\u001b[0m \u001b[38;5;28;01mdef\u001b[39;00m \u001b[38;5;21mstep\u001b[39m(\u001b[38;5;28mself\u001b[39m, action):\n\u001b[1;32m--> 323\u001b[0m     observation, reward, done, info \u001b[38;5;241m=\u001b[39m \u001b[38;5;28;43mself\u001b[39;49m\u001b[38;5;241;43m.\u001b[39;49m\u001b[43menv\u001b[49m\u001b[38;5;241;43m.\u001b[39;49m\u001b[43mstep\u001b[49m\u001b[43m(\u001b[49m\u001b[43maction\u001b[49m\u001b[43m)\u001b[49m\n\u001b[0;32m    324\u001b[0m     \u001b[38;5;28;01mreturn\u001b[39;00m \u001b[38;5;28mself\u001b[39m\u001b[38;5;241m.\u001b[39mobservation(observation), reward, done, info\n",
      "File \u001b[1;32mD:\\Mini Project\\mario\\lib\\site-packages\\gym\\core.py:323\u001b[0m, in \u001b[0;36mObservationWrapper.step\u001b[1;34m(self, action)\u001b[0m\n\u001b[0;32m    322\u001b[0m \u001b[38;5;28;01mdef\u001b[39;00m \u001b[38;5;21mstep\u001b[39m(\u001b[38;5;28mself\u001b[39m, action):\n\u001b[1;32m--> 323\u001b[0m     observation, reward, done, info \u001b[38;5;241m=\u001b[39m \u001b[38;5;28;43mself\u001b[39;49m\u001b[38;5;241;43m.\u001b[39;49m\u001b[43menv\u001b[49m\u001b[38;5;241;43m.\u001b[39;49m\u001b[43mstep\u001b[49m\u001b[43m(\u001b[49m\u001b[43maction\u001b[49m\u001b[43m)\u001b[49m\n\u001b[0;32m    324\u001b[0m     \u001b[38;5;28;01mreturn\u001b[39;00m \u001b[38;5;28mself\u001b[39m\u001b[38;5;241m.\u001b[39mobservation(observation), reward, done, info\n",
      "Cell \u001b[1;32mIn[4], line 14\u001b[0m, in \u001b[0;36mSkipFrame.step\u001b[1;34m(self, action)\u001b[0m\n\u001b[0;32m     11\u001b[0m done \u001b[38;5;241m=\u001b[39m \u001b[38;5;28;01mFalse\u001b[39;00m\n\u001b[0;32m     12\u001b[0m \u001b[38;5;28;01mfor\u001b[39;00m i \u001b[38;5;129;01min\u001b[39;00m \u001b[38;5;28mrange\u001b[39m(\u001b[38;5;28mself\u001b[39m\u001b[38;5;241m.\u001b[39m_skip):\n\u001b[0;32m     13\u001b[0m     \u001b[38;5;66;03m# Accumulate reward and repeat the same action\u001b[39;00m\n\u001b[1;32m---> 14\u001b[0m     obs, reward, done, info \u001b[38;5;241m=\u001b[39m \u001b[38;5;28;43mself\u001b[39;49m\u001b[38;5;241;43m.\u001b[39;49m\u001b[43menv\u001b[49m\u001b[38;5;241;43m.\u001b[39;49m\u001b[43mstep\u001b[49m\u001b[43m(\u001b[49m\u001b[43maction\u001b[49m\u001b[43m)\u001b[49m\n\u001b[0;32m     15\u001b[0m     total_reward \u001b[38;5;241m+\u001b[39m\u001b[38;5;241m=\u001b[39m reward\n\u001b[0;32m     16\u001b[0m     \u001b[38;5;28;01mif\u001b[39;00m done:\n",
      "File \u001b[1;32mD:\\Mini Project\\mario\\lib\\site-packages\\gym\\wrappers\\time_limit.py:18\u001b[0m, in \u001b[0;36mTimeLimit.step\u001b[1;34m(self, action)\u001b[0m\n\u001b[0;32m     14\u001b[0m \u001b[38;5;28;01mdef\u001b[39;00m \u001b[38;5;21mstep\u001b[39m(\u001b[38;5;28mself\u001b[39m, action):\n\u001b[0;32m     15\u001b[0m     \u001b[38;5;28;01massert\u001b[39;00m (\n\u001b[0;32m     16\u001b[0m         \u001b[38;5;28mself\u001b[39m\u001b[38;5;241m.\u001b[39m_elapsed_steps \u001b[38;5;129;01mis\u001b[39;00m \u001b[38;5;129;01mnot\u001b[39;00m \u001b[38;5;28;01mNone\u001b[39;00m\n\u001b[0;32m     17\u001b[0m     ), \u001b[38;5;124m\"\u001b[39m\u001b[38;5;124mCannot call env.step() before calling reset()\u001b[39m\u001b[38;5;124m\"\u001b[39m\n\u001b[1;32m---> 18\u001b[0m     observation, reward, done, info \u001b[38;5;241m=\u001b[39m \u001b[38;5;28;43mself\u001b[39;49m\u001b[38;5;241;43m.\u001b[39;49m\u001b[43menv\u001b[49m\u001b[38;5;241;43m.\u001b[39;49m\u001b[43mstep\u001b[49m\u001b[43m(\u001b[49m\u001b[43maction\u001b[49m\u001b[43m)\u001b[49m\n\u001b[0;32m     19\u001b[0m     \u001b[38;5;28mself\u001b[39m\u001b[38;5;241m.\u001b[39m_elapsed_steps \u001b[38;5;241m+\u001b[39m\u001b[38;5;241m=\u001b[39m \u001b[38;5;241m1\u001b[39m\n\u001b[0;32m     20\u001b[0m     \u001b[38;5;28;01mif\u001b[39;00m \u001b[38;5;28mself\u001b[39m\u001b[38;5;241m.\u001b[39m_elapsed_steps \u001b[38;5;241m>\u001b[39m\u001b[38;5;241m=\u001b[39m \u001b[38;5;28mself\u001b[39m\u001b[38;5;241m.\u001b[39m_max_episode_steps:\n",
      "File \u001b[1;32mD:\\Mini Project\\mario\\lib\\site-packages\\nes_py\\nes_env.py:300\u001b[0m, in \u001b[0;36mNESEnv.step\u001b[1;34m(self, action)\u001b[0m\n\u001b[0;32m    298\u001b[0m \u001b[38;5;28mself\u001b[39m\u001b[38;5;241m.\u001b[39mcontrollers[\u001b[38;5;241m0\u001b[39m][:] \u001b[38;5;241m=\u001b[39m action\n\u001b[0;32m    299\u001b[0m \u001b[38;5;66;03m# pass the action to the emulator as an unsigned byte\u001b[39;00m\n\u001b[1;32m--> 300\u001b[0m \u001b[43m_LIB\u001b[49m\u001b[38;5;241;43m.\u001b[39;49m\u001b[43mStep\u001b[49m\u001b[43m(\u001b[49m\u001b[38;5;28;43mself\u001b[39;49m\u001b[38;5;241;43m.\u001b[39;49m\u001b[43m_env\u001b[49m\u001b[43m)\u001b[49m\n\u001b[0;32m    301\u001b[0m \u001b[38;5;66;03m# get the reward for this step\u001b[39;00m\n\u001b[0;32m    302\u001b[0m reward \u001b[38;5;241m=\u001b[39m \u001b[38;5;28mfloat\u001b[39m(\u001b[38;5;28mself\u001b[39m\u001b[38;5;241m.\u001b[39m_get_reward())\n",
      "\u001b[1;31mKeyboardInterrupt\u001b[0m: "
     ]
    }
   ],
   "source": [
    "while True:\n",
    "    env = build_env()\n",
    "    obs = env.reset()\n",
    "    model.load(f\"./marioRL/models/model_150000.zip\")\n",
    "    for i in range(1, 2000 + 1):\n",
    "        # Reformat lazyframe to numpy for predict method\n",
    "        b = torch.Tensor(4, 84, 84)\n",
    "        torch.stack(obs._frames, out=b)\n",
    "        action, _ = model.predict(b.numpy())\n",
    "        obs, reward, done, _ = env.step(action.tolist())\n",
    "        env.render()\n",
    "        if done:\n",
    "            env.close()\n",
    "            break"
   ]
  },
  {
   "cell_type": "code",
   "execution_count": 16,
   "metadata": {},
   "outputs": [],
   "source": [
    "env.close()"
   ]
  },
  {
   "cell_type": "markdown",
   "metadata": {
    "id": "uEC9uRf9qNAU"
   },
   "source": [
    "# 5.GETTING OUTPUTS"
   ]
  },
  {
   "cell_type": "code",
   "execution_count": 21,
   "metadata": {
    "id": "MKbKEKhxqfTl"
   },
   "outputs": [],
   "source": [
    "total_steps = each_batch_steps\n",
    "for i in range(1,1+batches):\n",
    "    embed.embed_file(f\"./marioRL/docs/videos/model_{total_steps}.gif\")\n",
    "    total_steps = total_steps + each_batch_steps"
   ]
  }
 ],
 "metadata": {
  "colab": {
   "provenance": []
  },
  "kernelspec": {
   "display_name": "mario",
   "language": "python",
   "name": "mario"
  },
  "language_info": {
   "codemirror_mode": {
    "name": "ipython",
    "version": 3
   },
   "file_extension": ".py",
   "mimetype": "text/x-python",
   "name": "python",
   "nbconvert_exporter": "python",
   "pygments_lexer": "ipython3",
   "version": "3.8.10"
  }
 },
 "nbformat": 4,
 "nbformat_minor": 1
}
